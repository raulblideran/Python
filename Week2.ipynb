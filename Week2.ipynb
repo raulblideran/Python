{
 "cells": [
  {
   "cell_type": "code",
   "execution_count": null,
   "metadata": {},
   "outputs": [],
   "source": [
    "#Tom,19,80\n",
    "#John,20,90\n",
    "#Jony,17,91\n",
    "#Jony,17,93\n",
    "#Json,21,85\n",
    "#19 - De terminat la scoala\n",
    "import operator\n",
    "l = []\n",
    "while True:\n",
    "    a=input(\"Enter values sepparated by commas: \").split(',')\n",
    "    if a=='':\n",
    "        break\n",
    "    else:\n",
    "        l.append((a[0],a[1],a[2]))\n",
    "l.sort(key = operator.itemgetter(0, 1, 2))\n",
    "print (l)"
   ]
  },
  {
   "cell_type": "code",
   "execution_count": 14,
   "metadata": {},
   "outputs": [
    {
     "name": "stdout",
     "output_type": "stream",
     "text": [
      "Enter a value: 50\n",
      "<generator object seven at 0x0000017315BD3570>\n",
      "0\n",
      "7\n",
      "14\n",
      "21\n",
      "28\n",
      "35\n",
      "42\n",
      "49\n"
     ]
    }
   ],
   "source": [
    "#20\n",
    "def seven(n):\n",
    "    x=range(0,n)\n",
    "    for i in x:\n",
    "        if i%7==0 :\n",
    "            yield i\n",
    "n = int(input('Enter a value: '))\n",
    "b = seven(n)\n",
    "print (b)\n",
    "for i in b:\n",
    "    print(i)"
   ]
  },
  {
   "cell_type": "code",
   "execution_count": 14,
   "metadata": {},
   "outputs": [
    {
     "name": "stdout",
     "output_type": "stream",
     "text": [
      "[5, 77, 45]\n"
     ]
    }
   ],
   "source": [
    "#Week 2 \n",
    "#1\n",
    "l=[x for x in [5,6,77,45,22,12,24] if x%2 !=0]\n",
    "print (l)"
   ]
  },
  {
   "cell_type": "code",
   "execution_count": 15,
   "metadata": {},
   "outputs": [
    {
     "name": "stdout",
     "output_type": "stream",
     "text": [
      "[12, 24, 88]\n"
     ]
    }
   ],
   "source": [
    "#2\n",
    "l=[x for x in [12,24,35,70,88,120,155] if x%5!=0 and x%7!=0]\n",
    "print (l)  "
   ]
  },
  {
   "cell_type": "code",
   "execution_count": 10,
   "metadata": {},
   "outputs": [
    {
     "name": "stdout",
     "output_type": "stream",
     "text": [
      "[24, 70, 120]\n"
     ]
    }
   ],
   "source": [
    "#3\n",
    "lst = [12,24,35,70,88,120,155]\n",
    "l=[x for (i,x) in enumerate(lst) if i not in (0,2,4,6)]\n",
    "print (l)"
   ]
  },
  {
   "cell_type": "code",
   "execution_count": 23,
   "metadata": {},
   "outputs": [
    {
     "name": "stdout",
     "output_type": "stream",
     "text": [
      "[[[0, 0, 0, 0, 0, 0, 0, 0], [0, 0, 0, 0, 0, 0, 0, 0], [0, 0, 0, 0, 0, 0, 0, 0], [0, 0, 0, 0, 0, 0, 0, 0], [0, 0, 0, 0, 0, 0, 0, 0]], [[0, 0, 0, 0, 0, 0, 0, 0], [0, 0, 0, 0, 0, 0, 0, 0], [0, 0, 0, 0, 0, 0, 0, 0], [0, 0, 0, 0, 0, 0, 0, 0], [0, 0, 0, 0, 0, 0, 0, 0]], [[0, 0, 0, 0, 0, 0, 0, 0], [0, 0, 0, 0, 0, 0, 0, 0], [0, 0, 0, 0, 0, 0, 0, 0], [0, 0, 0, 0, 0, 0, 0, 0], [0, 0, 0, 0, 0, 0, 0, 0]]]\n"
     ]
    }
   ],
   "source": [
    "#4 ?\n",
    "l=[[[0 for z in range(8)] for y in range(5)] for x in range(3)]\n",
    "print(l)"
   ]
  },
  {
   "cell_type": "code",
   "execution_count": 24,
   "metadata": {},
   "outputs": [
    {
     "name": "stdout",
     "output_type": "stream",
     "text": [
      "[24, 35, 70, 155]\n"
     ]
    }
   ],
   "source": [
    "#5\n",
    "lst = [12,24,35,70,88,120,155]\n",
    "l=[x for (i,x) in enumerate(lst) if i not in (0,4,5)]\n",
    "print (l)"
   ]
  },
  {
   "cell_type": "code",
   "execution_count": 25,
   "metadata": {},
   "outputs": [
    {
     "name": "stdout",
     "output_type": "stream",
     "text": [
      "[12, 35, 70, 88, 120, 155]\n"
     ]
    }
   ],
   "source": [
    "#6\n",
    "l=[x for x in [12,24,35,24,88,120,155] if x!=24]\n",
    "print (l)  "
   ]
  },
  {
   "cell_type": "code",
   "execution_count": 34,
   "metadata": {},
   "outputs": [
    {
     "name": "stdout",
     "output_type": "stream",
     "text": [
      "{35}\n"
     ]
    }
   ],
   "source": [
    "#7\n",
    "a = set([1,3,6,78,35,55])\n",
    "b = set([12,24,35,24,88,120,155])\n",
    "c=a&b\n",
    "print (c)"
   ]
  },
  {
   "cell_type": "code",
   "execution_count": 57,
   "metadata": {},
   "outputs": [
    {
     "name": "stdout",
     "output_type": "stream",
     "text": [
      "[12, 24, 35, 88, 120, 155]\n"
     ]
    }
   ],
   "source": [
    "#8\n",
    "def remo(l):\n",
    "    a = []\n",
    "    for x in l:\n",
    "        if x not in a:\n",
    "            a.append(x)\n",
    "    return a\n",
    "l = [12,24,35,24,88,120,155,88,120,155]\n",
    "print (remo(l))"
   ]
  },
  {
   "cell_type": "code",
   "execution_count": null,
   "metadata": {},
   "outputs": [],
   "source": []
  }
 ],
 "metadata": {
  "kernelspec": {
   "display_name": "Python 3",
   "language": "python",
   "name": "python3"
  },
  "language_info": {
   "codemirror_mode": {
    "name": "ipython",
    "version": 3
   },
   "file_extension": ".py",
   "mimetype": "text/x-python",
   "name": "python",
   "nbconvert_exporter": "python",
   "pygments_lexer": "ipython3",
   "version": "3.7.1"
  }
 },
 "nbformat": 4,
 "nbformat_minor": 2
}
