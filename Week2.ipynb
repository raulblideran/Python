{
 "cells": [
  {
   "cell_type": "code",
   "execution_count": null,
   "metadata": {},
   "outputs": [],
   "source": [
    "#Tom,19,80\n",
    "#John,20,90\n",
    "#Jony,17,91\n",
    "#Jony,17,93\n",
    "#Json,21,85\n",
    "#19 - De terminat la scoala\n",
    "import operator\n",
    "l = []\n",
    "while True:\n",
    "    a=input(\"Enter values sepparated by commas: \").split(',')\n",
    "    if a=='':\n",
    "        break\n",
    "    else:\n",
    "        l.append((a[0],a[1],a[2]))\n",
    "l.sort(key = operator.itemgetter(0, 1, 2))\n",
    "print (l)"
   ]
  },
  {
   "cell_type": "code",
   "execution_count": 14,
   "metadata": {},
   "outputs": [
    {
     "name": "stdout",
     "output_type": "stream",
     "text": [
      "Enter a value: 50\n",
      "<generator object seven at 0x0000017315BD3570>\n",
      "0\n",
      "7\n",
      "14\n",
      "21\n",
      "28\n",
      "35\n",
      "42\n",
      "49\n"
     ]
    }
   ],
   "source": [
    "#20\n",
    "def seven(n):\n",
    "    x=range(0,n)\n",
    "    for i in x:\n",
    "        if i%7==0 :\n",
    "            yield i\n",
    "n = int(input('Enter a value: '))\n",
    "b = seven(n)\n",
    "print (b)\n",
    "for i in b:\n",
    "    print(i)"
   ]
  },
  {
   "cell_type": "code",
   "execution_count": null,
   "metadata": {},
   "outputs": [],
   "source": []
  }
 ],
 "metadata": {
  "kernelspec": {
   "display_name": "Python 3",
   "language": "python",
   "name": "python3"
  }
 },
 "nbformat": 4,
 "nbformat_minor": 2
}
