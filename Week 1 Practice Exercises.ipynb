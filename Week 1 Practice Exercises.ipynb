{
 "cells": [
  {
   "cell_type": "code",
   "execution_count": 1,
   "metadata": {
    "scrolled": false
   },
   "outputs": [
    {
     "name": "stdout",
     "output_type": "stream",
     "text": [
      "2002,2009,2016,2023,2037,2044,2051,2058,2072,2079,2086,2093,2107,2114,2121,2128,2142,2149,2156,2163,2177,2184,2191,2198,2212,2219,2226,2233,2247,2254,2261,2268,2282,2289,2296,2303,2317,2324,2331,2338,2352,2359,2366,2373,2387,2394,2401,2408,2422,2429,2436,2443,2457,2464,2471,2478,2492,2499,2506,2513,2527,2534,2541,2548,2562,2569,2576,2583,2597,2604,2611,2618,2632,2639,2646,2653,2667,2674,2681,2688,2702,2709,2716,2723,2737,2744,2751,2758,2772,2779,2786,2793,2807,2814,2821,2828,2842,2849,2856,2863,2877,2884,2891,2898,2912,2919,2926,2933,2947,2954,2961,2968,2982,2989,2996,3003,3017,3024,3031,3038,3052,3059,3066,3073,3087,3094,3101,3108,3122,3129,3136,3143,3157,3164,3171,3178,3192,3199,"
     ]
    }
   ],
   "source": [
    "#1\n",
    "x=2000\n",
    "while (x<3200):\n",
    "    if (x%7==0 and x%5!=0):\n",
    "        print(str(x), end=\", \")\n",
    "        x=x+1\n",
    "    else:\n",
    "        x=x+1"
   ]
  },
  {
   "cell_type": "code",
   "execution_count": 2,
   "metadata": {},
   "outputs": [
    {
     "name": "stdout",
     "output_type": "stream",
     "text": [
      "Enter a value: 8\n",
      "40320\n"
     ]
    }
   ],
   "source": [
    "#2\n",
    "x = input(\"Enter a value: \")\n",
    "y = int (x)\n",
    "z = int (x)\n",
    "a = 1\n",
    "while(y>1):\n",
    "    a=a*y\n",
    "    y=y-1\n",
    "print (a)  "
   ]
  },
  {
   "cell_type": "code",
   "execution_count": 1,
   "metadata": {},
   "outputs": [
    {
     "name": "stdout",
     "output_type": "stream",
     "text": [
      "Enter a value: 8\n",
      "{1: 1, 2: 4, 3: 9, 4: 16, 5: 25, 6: 36, 7: 49, 8: 64}\n"
     ]
    }
   ],
   "source": [
    "#3\n",
    "x =input(\"Enter a value: \")\n",
    "y = int (x)\n",
    "z = {}\n",
    "a = 1\n",
    "while (a<=y):\n",
    "    z[a] = a*a\n",
    "    a = a+1\n",
    "print (z)"
   ]
  },
  {
   "cell_type": "code",
   "execution_count": 12,
   "metadata": {},
   "outputs": [
    {
     "name": "stdout",
     "output_type": "stream",
     "text": [
      "Enter values separated by commas:15,25,35\n",
      "['15', '25', '35']\n",
      "('15', '25', '35')\n"
     ]
    }
   ],
   "source": [
    "#4\n",
    "x = input ('Enter values separated by commas:')\n",
    "a = x.split(\",\")\n",
    "print (a)\n",
    "print (tuple(a))"
   ]
  },
  {
   "cell_type": "code",
   "execution_count": 7,
   "metadata": {},
   "outputs": [],
   "source": [
    "#5\n",
    "def getString (a):\n",
    "        a=input(\"Enter a string: \")\n",
    "        return\n",
    "def printString (a):\n",
    "        print (a)\n",
    "        return"
   ]
  },
  {
   "cell_type": "code",
   "execution_count": 4,
   "metadata": {},
   "outputs": [
    {
     "name": "stdout",
     "output_type": "stream",
     "text": [
      "Enter a value or values separated by commas: 15,25,35\n",
      "7,9,10,"
     ]
    }
   ],
   "source": [
    "#6\n",
    "import math\n",
    "a = input('Enter a value or values separated by commas: ')\n",
    "D = a.split(',')\n",
    "i = 0\n",
    "H = 30\n",
    "C = 50\n",
    "while(D!=0 and i<len(D)):\n",
    "    Q = math.sqrt((2 * C * int(D[i]))/H)\n",
    "    print (int(Q), end=\",\")\n",
    "    i=i+1"
   ]
  },
  {
   "cell_type": "code",
   "execution_count": 5,
   "metadata": {},
   "outputs": [
    {
     "name": "stdout",
     "output_type": "stream",
     "text": [
      "Enter a value for the row: 555\n",
      "Enter a value for the column: 55\n"
     ]
    },
    {
     "ename": "TypeError",
     "evalue": "'int' object is not subscriptable",
     "output_type": "error",
     "traceback": [
      "\u001b[0;31m---------------------------------------------------------------------------\u001b[0m",
      "\u001b[0;31mTypeError\u001b[0m                                 Traceback (most recent call last)",
      "\u001b[0;32m<ipython-input-5-8294288a3a0a>\u001b[0m in \u001b[0;36m<module>\u001b[0;34m\u001b[0m\n\u001b[1;32m      8\u001b[0m \u001b[0;32mfor\u001b[0m \u001b[0mi\u001b[0m \u001b[0;32min\u001b[0m \u001b[0mrange\u001b[0m\u001b[0;34m(\u001b[0m\u001b[0mint\u001b[0m\u001b[0;34m(\u001b[0m\u001b[0mx\u001b[0m\u001b[0;34m)\u001b[0m\u001b[0;34m-\u001b[0m\u001b[0;36m1\u001b[0m\u001b[0;34m)\u001b[0m\u001b[0;34m:\u001b[0m\u001b[0;34m\u001b[0m\u001b[0;34m\u001b[0m\u001b[0m\n\u001b[1;32m      9\u001b[0m     \u001b[0;32mfor\u001b[0m \u001b[0mj\u001b[0m \u001b[0;32min\u001b[0m \u001b[0mrange\u001b[0m\u001b[0;34m(\u001b[0m\u001b[0mint\u001b[0m\u001b[0;34m(\u001b[0m\u001b[0my\u001b[0m\u001b[0;34m)\u001b[0m\u001b[0;34m-\u001b[0m\u001b[0;36m1\u001b[0m\u001b[0;34m)\u001b[0m\u001b[0;34m:\u001b[0m\u001b[0;34m\u001b[0m\u001b[0;34m\u001b[0m\u001b[0m\n\u001b[0;32m---> 10\u001b[0;31m         \u001b[0ma\u001b[0m\u001b[0;34m[\u001b[0m\u001b[0mi\u001b[0m\u001b[0;34m]\u001b[0m\u001b[0;34m[\u001b[0m\u001b[0mj\u001b[0m\u001b[0;34m]\u001b[0m \u001b[0;34m=\u001b[0m \u001b[0mi\u001b[0m\u001b[0;34m*\u001b[0m\u001b[0mj\u001b[0m\u001b[0;34m\u001b[0m\u001b[0;34m\u001b[0m\u001b[0m\n\u001b[0m\u001b[1;32m     11\u001b[0m         \u001b[0mprint\u001b[0m \u001b[0;34m(\u001b[0m\u001b[0ma\u001b[0m\u001b[0;34m[\u001b[0m\u001b[0mi\u001b[0m\u001b[0;34m]\u001b[0m\u001b[0;34m[\u001b[0m\u001b[0mj\u001b[0m\u001b[0;34m]\u001b[0m\u001b[0;34m,\u001b[0m \u001b[0mend\u001b[0m\u001b[0;34m=\u001b[0m\u001b[0;34m' '\u001b[0m\u001b[0;34m)\u001b[0m\u001b[0;34m\u001b[0m\u001b[0;34m\u001b[0m\u001b[0m\n",
      "\u001b[0;31mTypeError\u001b[0m: 'int' object is not subscriptable"
     ]
    }
   ],
   "source": [
    "#7\n",
    "from array import*\n",
    "\n",
    "x = input ('Enter a value for the row: ')\n",
    "y = input (\"Enter a value for the column: \")\n",
    "i = 0\n",
    "j = 0\n",
    "a = [i][j]\n",
    "for i in range(int(x)-1):\n",
    "    for j in range(int(y)-1):\n",
    "        a[i][j] = i*j\n",
    "        print (a[i][j], end=' ')"
   ]
  },
  {
   "cell_type": "code",
   "execution_count": 14,
   "metadata": {},
   "outputs": [
    {
     "name": "stdout",
     "output_type": "stream",
     "text": [
      "Enter words seppaated by commas: das,hgf,abv,gfd,uyt\n",
      "['abv', 'das', 'gfd', 'hgf', 'uyt']\n"
     ]
    }
   ],
   "source": [
    "#8\n",
    "a=input(\"Enter words seppaated by commas: \")\n",
    "y=a.split(',')\n",
    "y.sort()\n",
    "print(y)"
   ]
  },
  {
   "cell_type": "code",
   "execution_count": 27,
   "metadata": {},
   "outputs": [
    {
     "name": "stdout",
     "output_type": "stream",
     "text": [
      "Enter a sentence: muie\n",
      "MUIE\n"
     ]
    }
   ],
   "source": [
    "#9\n",
    "a = input(\"Enter a sentence: \")\n",
    "print (a.upper()) "
   ]
  },
  {
   "cell_type": "code",
   "execution_count": 5,
   "metadata": {},
   "outputs": [
    {
     "name": "stdout",
     "output_type": "stream",
     "text": [
      "Enter a sentence Ana has apples\n",
      "['Ana', 'apples', 'has']\n"
     ]
    }
   ],
   "source": [
    "#10\n",
    "a = input(\"Enter a sentence \")\n",
    "b = set(a.split(' '))\n",
    "print(sorted(b))"
   ]
  },
  {
   "cell_type": "code",
   "execution_count": 6,
   "metadata": {},
   "outputs": [
    {
     "name": "stdout",
     "output_type": "stream",
     "text": [
      "Enter binarry numbers sepparated by commas: 1010\n",
      "1010\n"
     ]
    }
   ],
   "source": [
    "#11 #0100, 0011, 1010, 1001\n",
    "a = input(\"Enter binarry numbers sepparated by commas: \")\n",
    "b = a.split(',')\n",
    "for x in range(len(b)):\n",
    "    c=int(b[x])\n",
    "    k=str(c)\n",
    "    a=int(k,2)\n",
    "    if(a%5==0):        \n",
    "        print(c)"
   ]
  },
  {
   "cell_type": "code",
   "execution_count": 49,
   "metadata": {},
   "outputs": [
    {
     "name": "stdout",
     "output_type": "stream",
     "text": [
      "2000, 2002, 2004, 2006, 2008, 2020, 2022, 2024, 2026, 2028, 2040, 2042, 2044, 2046, 2048, 2060, 2062, 2064, 2066, 2068, 2080, 2082, 2084, 2086, 2088, 2200, 2202, 2204, 2206, 2208, 2220, 2222, 2224, 2226, 2228, 2240, 2242, 2244, 2246, 2248, 2260, 2262, 2264, 2266, 2268, 2280, 2282, 2284, 2286, 2288, 2400, 2402, 2404, 2406, 2408, 2420, 2422, 2424, 2426, 2428, 2440, 2442, 2444, 2446, 2448, 2460, 2462, 2464, 2466, 2468, 2480, 2482, 2484, 2486, 2488, 2600, 2602, 2604, 2606, 2608, 2620, 2622, 2624, 2626, 2628, 2640, 2642, 2644, 2646, 2648, 2660, 2662, 2664, 2666, 2668, 2680, 2682, 2684, 2686, 2688, 2800, 2802, 2804, 2806, 2808, 2820, 2822, 2824, 2826, 2828, 2840, 2842, 2844, 2846, 2848, 2860, 2862, 2864, 2866, 2868, 2880, 2882, 2884, 2886, 2888, "
     ]
    }
   ],
   "source": [
    "#12 Done by Dan\n",
    "def isEven(num):\n",
    "    even=True\n",
    "    for char in str(num):\n",
    "        if int(char)%2!=0:\n",
    "            even=False\n",
    "    return even\n",
    "for x in range(1000,3000):\n",
    "    if isEven(x): print(x, end=\", \")"
   ]
  },
  {
   "cell_type": "code",
   "execution_count": 45,
   "metadata": {},
   "outputs": [
    {
     "name": "stdout",
     "output_type": "stream",
     "text": [
      "Enter a string: ewq ddsssssss< 32\n",
      "Letters:  2 \n",
      "Digits:  12\n"
     ]
    }
   ],
   "source": [
    "#13\n",
    "a = input(\"Enter a string: \")\n",
    "c = 0\n",
    "d = 0\n",
    "for b in a:\n",
    "    if(b.isdigit()==True):\n",
    "        c=c+1\n",
    "    if(b.isalpha()==True):\n",
    "        d=d+1\n",
    "print ('Letters: ',c, '\\nDigits: ',d)"
   ]
  },
  {
   "cell_type": "code",
   "execution_count": 50,
   "metadata": {},
   "outputs": [
    {
     "name": "stdout",
     "output_type": "stream",
     "text": [
      "Enter a string: fsiud oiudnfoi UFDSBU OUFDSB owuf \n",
      "Lower:  17 \n",
      "Upper:  12\n"
     ]
    }
   ],
   "source": [
    "#14\n",
    "a = input(\"Enter a string: \")\n",
    "c = 0\n",
    "d = 0\n",
    "for b in a:\n",
    "    if(b.islower()==True):\n",
    "        c=c+1\n",
    "    if(b.isupper()==True):\n",
    "        d=d+1\n",
    "print ('Lower: ',c, '\\nUpper: ',d)"
   ]
  },
  {
   "cell_type": "code",
   "execution_count": 55,
   "metadata": {},
   "outputs": [
    {
     "name": "stdout",
     "output_type": "stream",
     "text": [
      "Enter a number: 9\n",
      "11106\n"
     ]
    }
   ],
   "source": [
    "#15\n",
    "x = input(\"Enter a number: \")\n",
    "a = int(x)\n",
    "c = a+(a*10+a)+(a*100+a*10+a)+(a*1000+a*100+a*10+a)\n",
    "print(c)"
   ]
  },
  {
   "cell_type": "code",
   "execution_count": 40,
   "metadata": {},
   "outputs": [
    {
     "name": "stdout",
     "output_type": "stream",
     "text": [
      "Enter values sepparted by commas: 13,15,17,20\n",
      "[169, 225, 289]\n"
     ]
    }
   ],
   "source": [
    "#16\n",
    "lst = [int(b)**2 for b in input(\"Enter values sepparted by commas: \").split(',') if(int(b)%2!=0)]\n",
    "print (lst)"
   ]
  },
  {
   "cell_type": "code",
   "execution_count": 8,
   "metadata": {},
   "outputs": [
    {
     "name": "stdout",
     "output_type": "stream",
     "text": [
      "Enter values: D 300\n",
      "Enter values: W 510\n",
      "Enter values: \n",
      "-210\n"
     ]
    }
   ],
   "source": [
    "#17 Done by Dan\n",
    "t = 0\n",
    "while True:\n",
    "    b=input(\"Enter values: \").split(' ')\n",
    "    if b==['']:\n",
    "        break\n",
    "    elif b[0]=='D':\n",
    "        t=t+int(b[1])\n",
    "    elif b[0]=='W':\n",
    "        t=t-int(b[1])\n",
    "    else:\n",
    "        print('Please use better input')\n",
    "print(t)        \n",
    "        \n",
    "    "
   ]
  },
  {
   "cell_type": "code",
   "execution_count": 89,
   "metadata": {},
   "outputs": [
    {
     "name": "stdout",
     "output_type": "stream",
     "text": [
      "Enter passwords: ABd1234@1,a F1#,2w3E*,2We3345\n"
     ]
    }
   ],
   "source": [
    "#18 ?\n",
    "a = []\n",
    "x = input(\"Enter passwords: \").split(',')\n",
    "s = \"$#@\"\n",
    "for b in x:\n",
    "    l = 0\n",
    "    u = 0\n",
    "    d = 0\n",
    "    sp = 0\n",
    "    for k in b:\n",
    "        if k.islower():\n",
    "            l += 1\n",
    "        elif k.isupper():\n",
    "            u += 1\n",
    "        elif k.isdigit():\n",
    "            d += 1\n",
    "        elif s.find(char) != -1:\n",
    "            sp += 1\n",
    "        if l >= 1 and u >= 1 and d >= 1 and sp>=1 and len(x) in range(6,15):\n",
    "            a.append(x)\n",
    "            print(a)"
   ]
  },
  {
   "cell_type": "code",
   "execution_count": 1,
   "metadata": {},
   "outputs": [
    {
     "name": "stdout",
     "output_type": "stream",
     "text": [
      "Enter values sepparated by commas: Tom,19,80\n",
      "Enter values sepparated by commas: John,20,90\n",
      "Enter values sepparated by commas: Jony,17,91\n",
      "Enter values sepparated by commas: Jony,17,93\n",
      "Enter values sepparated by commas: Json,21,85\n",
      "Enter values sepparated by commas: \n",
      "[('John', '20', '90'), ('Jony', '17', '91'), ('Jony', '17', '93'), ('Json', '21', '85'), ('Tom', '19', '80')]\n"
     ]
    }
   ],
   "source": [
    "#19\n",
    "import operator\n",
    "l = []\n",
    "while True:\n",
    "    a=input(\"Enter values sepparated by commas: \").split(',')\n",
    "    if a==['']:\n",
    "        break\n",
    "    else:\n",
    "        l.append((a[0],a[1],a[2]))\n",
    "l.sort(key = operator.itemgetter(0, 1, 2))\n",
    "print (l)\n",
    "#Tom,19,80\n",
    "#John,20,90\n",
    "#Jony,17,91\n",
    "#Jony,17,93\n",
    "#Json,21,85"
   ]
  },
  {
   "cell_type": "code",
   "execution_count": 2,
   "metadata": {},
   "outputs": [
    {
     "name": "stdout",
     "output_type": "stream",
     "text": [
      "Enter a value: 10\n",
      "<generator object seven at 0x7f477818b0c0>\n",
      "0\n",
      "7\n"
     ]
    }
   ],
   "source": [
    "#20\n",
    "def seven(n):\n",
    "    x=range(0,n)\n",
    "    for i in x:\n",
    "        if i%7==0 :\n",
    "            yield i\n",
    "n = int(input('Enter a value: '))\n",
    "b = seven(n)\n",
    "for i in b:\n",
    "    print(i)"
   ]
  },
  {
   "cell_type": "code",
   "execution_count": null,
   "metadata": {},
   "outputs": [],
   "source": []
  }
 ],
 "metadata": {
  "kernelspec": {
   "display_name": "Python 3",
   "language": "python",
   "name": "python3"
  },
  "language_info": {
   "codemirror_mode": {
    "name": "ipython",
    "version": 3
   },
   "file_extension": ".py",
   "mimetype": "text/x-python",
   "name": "python",
   "nbconvert_exporter": "python",
   "pygments_lexer": "ipython3",
   "version": "3.7.1"
  }
 },
 "nbformat": 4,
 "nbformat_minor": 2
}
